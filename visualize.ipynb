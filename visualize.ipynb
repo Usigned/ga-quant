{
 "cells": [
  {
   "cell_type": "code",
   "execution_count": 6,
   "metadata": {},
   "outputs": [
    {
     "name": "stdout",
     "output_type": "stream",
     "text": [
      "7 blocks, 17 layers\n",
      "block\n",
      "0,4\n",
      "1,4\n",
      "block\n",
      "2,4\n",
      "3,4\n",
      "block\n",
      "4,4\n",
      "5,6\n",
      "6,2\n",
      "block\n",
      "7,2\n",
      "8,2\n",
      "block\n",
      "9,6\n",
      "10,4\n",
      "11,2\n",
      "block\n",
      "12,4\n",
      "13,4\n",
      "block\n",
      "14,4\n",
      "15,8\n",
      "16,2\n",
      "block\n"
     ]
    }
   ],
   "source": [
    "split, pi = (6, (4, 4, 4, 4, 4, 6, 2, 2, 2, 6, 4, 2, 4, 4, 4, 8, 2, 6, 6))\n",
    "from models.resnet import *\n",
    "from utils import *\n",
    "from quantize_utils import *\n",
    "block_type = [BasicBlock, BottleNeck]\n",
    "layer_type = [QConv2d]\n",
    "model = qresnet18()\n",
    "mixed_quant_with_partition_bw(model, strategy=pi, split=split, block_type=[BasicBlock, BottleNeck])\n",
    "i = 0\n",
    "for m in model.modules():\n",
    "    if type(m) in block_type:\n",
    "        print(f\"block\")\n",
    "    #     i += 1\n",
    "    if type(m) in layer_type:\n",
    "        if m.w_bit != -1:\n",
    "            print(f'{i},{m.w_bit}')\n",
    "            i += 1"
   ]
  },
  {
   "cell_type": "code",
   "execution_count": 13,
   "metadata": {},
   "outputs": [
    {
     "name": "stdout",
     "output_type": "stream",
     "text": [
      "14 blocks, 26 layers\n",
      "-1,-1\n",
      "0,8\n",
      "1,4\n",
      "2,6\n",
      "3,6\n",
      "4,8\n",
      "5,6\n",
      "6,6\n",
      "7,8\n",
      "8,4\n",
      "9,8\n",
      "10,2\n",
      "11,8\n",
      "12,6\n",
      "13,8\n",
      "14,4\n",
      "15,4\n",
      "16,6\n",
      "17,4\n",
      "18,8\n",
      "19,6\n",
      "20,8\n",
      "21,8\n",
      "22,8\n",
      "23,4\n",
      "24,2\n",
      "25,6\n"
     ]
    }
   ],
   "source": [
    "split, pi = (13,\n",
    "  (8,\n",
    "   4,\n",
    "   6,\n",
    "   6,\n",
    "   8,\n",
    "   6,\n",
    "   6,\n",
    "   8,\n",
    "   4,\n",
    "   8,\n",
    "   2,\n",
    "   8,\n",
    "   6,\n",
    "   8,\n",
    "   4,\n",
    "   4,\n",
    "   6,\n",
    "   4,\n",
    "   8,\n",
    "   6,\n",
    "   8,\n",
    "   8,\n",
    "   8,\n",
    "   4,\n",
    "   2,\n",
    "   6))\n",
    "from models.mobilenet import *\n",
    "from utils import *\n",
    "from quantize_utils import *\n",
    "block_type = [BasicConv2d, DepthSeperabelConv2d]\n",
    "layer_type = [QConv2d]\n",
    "model = qmobilenet()\n",
    "mixed_quant_with_partition_bw(model, strategy=pi, split=split, block_type=block_type)\n",
    "j = -1\n",
    "for m in model.modules():\n",
    "\n",
    "    if type(m) in layer_type:\n",
    "        print(f'{j},{m.w_bit}')\n",
    "        j += 1"
   ]
  }
 ],
 "metadata": {
  "interpreter": {
   "hash": "d912fd5a214bdf4255a8a1783e88f12c1aa759a860b7ede2335e489e44772f26"
  },
  "kernelspec": {
   "display_name": "Python 3.8.0 64-bit ('py3.8.0-pytorch1.7.0': pyenv)",
   "name": "python3"
  },
  "language_info": {
   "codemirror_mode": {
    "name": "ipython",
    "version": 3
   },
   "file_extension": ".py",
   "mimetype": "text/x-python",
   "name": "python",
   "nbconvert_exporter": "python",
   "pygments_lexer": "ipython3",
   "version": "3.8.0"
  },
  "orig_nbformat": 4
 },
 "nbformat": 4,
 "nbformat_minor": 2
}
