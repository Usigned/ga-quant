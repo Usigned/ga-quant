{
 "cells": [
  {
   "cell_type": "code",
   "execution_count": 1,
   "metadata": {},
   "outputs": [],
   "source": [
    "from models.resnet import *\n",
    "from utils import *\n",
    "from quantize_utils import *\n",
    "from models.mobilenet import *\n",
    "import conf\n",
    "\n",
    "trainLoader = cifar100DataLoader(train=True, shuffle=False, normalized=True, batch_size=128)\n",
    "testLoader = cifar100DataLoader(train=False, shuffle=False, normalized=True, batch_size=128)\n",
    "sample, label = iter(trainLoader).next()"
   ]
  },
  {
   "cell_type": "code",
   "execution_count": 2,
   "metadata": {},
   "outputs": [
    {
     "data": {
      "text/plain": [
       "(tensor(0.7830, device='cuda:0'), tensor(0.9436, device='cuda:0'))"
      ]
     },
     "execution_count": 2,
     "metadata": {},
     "output_type": "execute_result"
    }
   ],
   "source": [
    "model = qresnet50()\n",
    "# model = qmobilenet()\n",
    "model.eval()\n",
    "load_qnet(model, conf.resnet50_path)\n",
    "test(model, testLoader, device='cuda')\n",
    "# mixed_quant_with_partition_bw(model, strategy=[32] * (lenQmodel(model) -1), split=0, block_type=[BottleNeck, BasicBlock])\n",
    "# print(energy_eval_bw(model, (3, 32, 32)) /1e9)"
   ]
  },
  {
   "cell_type": "code",
   "execution_count": null,
   "metadata": {},
   "outputs": [],
   "source": [
    "from torchsummary import summary\n",
    "summary(model.cuda(), (3, 32, 32), device='cuda')"
   ]
  },
  {
   "cell_type": "code",
   "execution_count": 4,
   "metadata": {},
   "outputs": [],
   "source": [
    "# split, pi = (6, (4, 4, 4, 4, 4, 6, 2, 2, 2, 6, 4, 2, 4, 4, 4, 8, 2, 6, 6))\n",
    "split, pi = (5,\n",
    "(8,\n",
    "   4,\n",
    "   8,\n",
    "   2,\n",
    "   8,\n",
    "   4,\n",
    "   4,\n",
    "   2,\n",
    "   8,\n",
    "   2,\n",
    "   8,\n",
    "   6,\n",
    "   8,\n",
    "   4,\n",
    "   4,\n",
    "   8,\n",
    "   4,\n",
    "   2,\n",
    "   2,\n",
    "   8,\n",
    "   2,\n",
    "   2,\n",
    "   4,\n",
    "   8,\n",
    "   2,\n",
    "   8,\n",
    "   8,\n",
    "   2,\n",
    "   2,\n",
    "   6,\n",
    "   6,\n",
    "   8,\n",
    "   2,\n",
    "   2,\n",
    "   8,\n",
    "   2,\n",
    "   2,\n",
    "   2,\n",
    "   8,\n",
    "   8,\n",
    "   8,\n",
    "   8,\n",
    "   8,\n",
    "   2,\n",
    "   2,\n",
    "   8,\n",
    "   8,\n",
    "   4,\n",
    "   4,\n",
    "   2,\n",
    "   6,\n",
    "   2))\n",
    "# split, pi = (13,\n",
    "#   (8,\n",
    "#    4,\n",
    "#    6,\n",
    "#    6,\n",
    "#    8,\n",
    "#    6,\n",
    "#    6,\n",
    "#    8,\n",
    "#    4,\n",
    "#    8,\n",
    "#    2,\n",
    "#    8,\n",
    "#    6,\n",
    "#    8,\n",
    "#    4,\n",
    "#    4,\n",
    "#    6,\n",
    "#    4,\n",
    "#    8,\n",
    "#    6,\n",
    "#    8,\n",
    "#    8,\n",
    "#    8,\n",
    "#    4,\n",
    "#    2,\n",
    "#    6))\n"
   ]
  },
  {
   "cell_type": "code",
   "execution_count": 6,
   "metadata": {},
   "outputs": [
    {
     "data": {
      "text/plain": [
       "(tensor(0.1041, device='cuda:0'), tensor(0.3056, device='cuda:0'))"
      ]
     },
     "execution_count": 6,
     "metadata": {},
     "output_type": "execute_result"
    }
   ],
   "source": [
    "# mixed_quant_with_partition_bw(model, strategy=pi, split=split, block_type=[BasicConv2d, DepthSeperabelConv2d])\n",
    "# test(model, testLoader, device='cuda')\n",
    "finetune(model, trainLoader, epochs=1, device='cuda', need_test=True, testloader=testLoader)"
   ]
  },
  {
   "cell_type": "code",
   "execution_count": 5,
   "metadata": {},
   "outputs": [
    {
     "name": "stdout",
     "output_type": "stream",
     "text": [
      "16 blocks, 52 layers\n"
     ]
    }
   ],
   "source": [
    "# mixed_quant_with_partition_bw(model, strategy=[8] * (lenQmodel(model) -1), split=15, block_type=[BottleNeck, BasicBlock])\n",
    "mixed_quant_with_partition_bw(model, strategy=pi, split=15, block_type=[BottleNeck, BasicBlock])\n",
    "# test(model, testLoader, device='cuda')\n",
    "# print(privacy_eval(model, sample, label, device='cuda'))\n",
    "# energy_eval_bw(model, (3, 32, 32), device='cuda') / 1e9"
   ]
  },
  {
   "cell_type": "code",
   "execution_count": null,
   "metadata": {},
   "outputs": [],
   "source": [
    "def percent(x, y):\n",
    "    return (x - y) / x"
   ]
  },
  {
   "cell_type": "code",
   "execution_count": 93,
   "metadata": {},
   "outputs": [
    {
     "data": {
      "text/plain": [
       "0.013461337785662133"
      ]
     },
     "execution_count": 93,
     "metadata": {},
     "output_type": "execute_result"
    }
   ],
   "source": [
    "percent(0.9583, 0.9454)"
   ]
  },
  {
   "cell_type": "code",
   "execution_count": 91,
   "metadata": {},
   "outputs": [
    {
     "data": {
      "text/plain": [
       "4.931216931216931"
      ]
     },
     "execution_count": 91,
     "metadata": {},
     "output_type": "execute_result"
    }
   ],
   "source": [
    "1.6776 / 0.3402"
   ]
  }
 ],
 "metadata": {
  "interpreter": {
   "hash": "d912fd5a214bdf4255a8a1783e88f12c1aa759a860b7ede2335e489e44772f26"
  },
  "kernelspec": {
   "display_name": "Python 3.8.0 64-bit ('py3.8.0-pytorch1.7.0': pyenv)",
   "name": "python3"
  },
  "language_info": {
   "codemirror_mode": {
    "name": "ipython",
    "version": 3
   },
   "file_extension": ".py",
   "mimetype": "text/x-python",
   "name": "python",
   "nbconvert_exporter": "python",
   "pygments_lexer": "ipython3",
   "version": "3.8.0"
  },
  "orig_nbformat": 4
 },
 "nbformat": 4,
 "nbformat_minor": 2
}
