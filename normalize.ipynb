{
 "cells": [
  {
   "cell_type": "code",
   "execution_count": 28,
   "metadata": {},
   "outputs": [],
   "source": [
    "def normalized(array):\n",
    "    max_v = max(array)\n",
    "    min_v = min(array)\n",
    "    result =[]\n",
    "    for a in array:\n",
    "        result.append((a - min_v) / (max_v - min_v))\n",
    "    return result"
   ]
  },
  {
   "cell_type": "code",
   "execution_count": 29,
   "metadata": {},
   "outputs": [],
   "source": [
    "mses =  [0.0\n",
    " , 0.01784815639257431\n",
    " , 0.13962650299072266\n",
    ", 0.2331218123435974\n",
    " , 0.27770766615867615\n",
    " , 0.425800585746765\n",
    " , 0.5509493327140808\n",
    " , 0.66\n",
    " , 0.8]\n",
    "no_mses = normalized(mses)"
   ]
  },
  {
   "cell_type": "code",
   "execution_count": 4,
   "metadata": {},
   "outputs": [
    {
     "data": {
      "text/plain": [
       "[0.0,\n",
       " 0.009686062499320714,\n",
       " 0.07577427073041597,\n",
       " 0.1265134837822493,\n",
       " 0.15070989696574788,\n",
       " 0.16420796041555286,\n",
       " 0.26643457262884845,\n",
       " 0.5487255799558322,\n",
       " 1.0]"
      ]
     },
     "execution_count": 4,
     "metadata": {},
     "output_type": "execute_result"
    }
   ],
   "source": [
    "no_mses"
   ]
  },
  {
   "cell_type": "code",
   "execution_count": 5,
   "metadata": {},
   "outputs": [],
   "source": [
    "ssims = [1.0\n",
    " , 1.3504\n",
    " , 3.5209\n",
    " , 4.6064\n",
    " , 4.7357\n",
    " , 4.7958\n",
    " , 5.1204\n",
    " , 5.4065\n",
    " , 5.8008]"
   ]
  },
  {
   "cell_type": "code",
   "execution_count": 6,
   "metadata": {},
   "outputs": [
    {
     "data": {
      "text/plain": [
       "[0.0,\n",
       " 0.07298783536077322,\n",
       " 0.5250999833361107,\n",
       " 0.7512081319780036,\n",
       " 0.7781411431428095,\n",
       " 0.7906598900183303,\n",
       " 0.8582736210631562,\n",
       " 0.9178678553574405,\n",
       " 1.0]"
      ]
     },
     "execution_count": 6,
     "metadata": {},
     "output_type": "execute_result"
    }
   ],
   "source": [
    "no_ssims = normalized(ssims)\n",
    "no_ssims"
   ]
  },
  {
   "cell_type": "code",
   "execution_count": 7,
   "metadata": {},
   "outputs": [
    {
     "data": {
      "text/plain": [
       "[0.0,\n",
       " 0.21951219512195125,\n",
       " 0.7195121951219513,\n",
       " 0.7926829268292683,\n",
       " 0.8170731707317074,\n",
       " 0.878048780487805,\n",
       " 0.9146341463414634,\n",
       " 0.951219512195122,\n",
       " 1.0]"
      ]
     },
     "execution_count": 7,
     "metadata": {},
     "output_type": "execute_result"
    }
   ],
   "source": [
    "kls = [ 0.0\n",
    " , 1.8\n",
    " , 5.9\n",
    " , 6.5\n",
    " , 6.7 \n",
    " , 7.2\n",
    " , 7.5\n",
    " , 7.8\n",
    " , 8.2]\n",
    "no_kls = normalized(kls)\n",
    "no_kls"
   ]
  },
  {
   "cell_type": "code",
   "execution_count": 30,
   "metadata": {},
   "outputs": [
    {
     "name": "stdout",
     "output_type": "stream",
     "text": [
      "0,0.0,0.0,0.0\n",
      "1,0.022310195490717888,0.07298783536077322,0.21951219512195125\n",
      "2,0.17453312873840332,0.5250999833361107,0.7195121951219513\n",
      "3,0.29140226542949677,0.7512081319780036,0.7926829268292683\n",
      "4,0.3471345826983452,0.7781411431428095,0.8170731707317074\n",
      "5,0.5322507321834562,0.7906598900183303,0.878048780487805\n",
      "6,0.6886866658926009,0.8582736210631562,0.9146341463414634\n",
      "7,0.825,0.9178678553574405,0.951219512195122\n",
      "8,1.0,1.0,1.0\n"
     ]
    }
   ],
   "source": [
    "for i, (mse, ssim, kl) in enumerate(zip(no_mses, no_ssims, no_kls)):\n",
    "    print(f\"{i},{mse},{ssim},{kl}\")"
   ]
  }
 ],
 "metadata": {
  "interpreter": {
   "hash": "d912fd5a214bdf4255a8a1783e88f12c1aa759a860b7ede2335e489e44772f26"
  },
  "kernelspec": {
   "display_name": "Python 3.8.0 64-bit ('py3.8.0-pytorch1.7.0': pyenv)",
   "name": "python3"
  },
  "language_info": {
   "codemirror_mode": {
    "name": "ipython",
    "version": 3
   },
   "file_extension": ".py",
   "mimetype": "text/x-python",
   "name": "python",
   "nbconvert_exporter": "python",
   "pygments_lexer": "ipython3",
   "version": "3.8.0"
  },
  "orig_nbformat": 4
 },
 "nbformat": 4,
 "nbformat_minor": 2
}
