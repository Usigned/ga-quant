{
 "cells": [
  {
   "cell_type": "code",
   "execution_count": 40,
   "metadata": {},
   "outputs": [],
   "source": [
    "def bestSolution(pop, privacy, energy, accur):\n",
    "    best, fitness =  sorted(pop.items(), key=lambda x: x[1], reverse=True)[0]\n",
    "    return best, fitness, privacy[best], energy[best], accur[best]\n",
    "def showPop(pop, privacy, energy, accur):\n",
    "    print(\"key| fitness| privacy| energy| accur\")\n",
    "    for k, v in sorted(pop.items(), key=lambda x: x[1], reverse=True):\n",
    "        print(k, v, privacy[k], energy[k], accur[k])"
   ]
  },
  {
   "cell_type": "code",
   "execution_count": 41,
   "metadata": {},
   "outputs": [],
   "source": [
    "from es import load_file\n",
    "fileList = list(map(str, range(500)))\n",
    "import os.path as osp\n",
    "fileDir = '/home/marcguo/lzq/work-dir/privacy-refactor/log/resnet50/2021_10_12T15_12_33'\n",
    "pop_iter = {}\n",
    "for file in fileList:\n",
    "    pop = {}\n",
    "    path = osp.join(fileDir, file)\n",
    "    load_file(pop, path)\n",
    "    pop_iter[int(file)] = pop"
   ]
  },
  {
   "cell_type": "code",
   "execution_count": 42,
   "metadata": {},
   "outputs": [],
   "source": [
    "def load_mem(mem_dir):\n",
    "    privacy = {}\n",
    "    energy = {}\n",
    "    accur = {}\n",
    "    load_file(privacy, osp.join(mem_dir, 'privacy.log'))\n",
    "    load_file(energy, osp.join(mem_dir, 'energy.log'))\n",
    "    load_file(accur, osp.join(mem_dir, 'accur.log'))\n",
    "    return privacy, energy, accur\n",
    "\n",
    "mem_dir = '/home/marcguo/lzq/work-dir/privacy-refactor/mem/resnet50'\n",
    "privacy, energy, accur = load_mem(mem_dir=mem_dir)"
   ]
  },
  {
   "cell_type": "code",
   "execution_count": null,
   "metadata": {},
   "outputs": [],
   "source": [
    "# showPop(pop_iter[999], privacy, energy, accur)\n",
    "bestSolution(pop_iter[499], privacy, energy, accur)"
   ]
  },
  {
   "cell_type": "code",
   "execution_count": 43,
   "metadata": {},
   "outputs": [
    {
     "data": {
      "text/plain": [
       "16"
      ]
     },
     "execution_count": 43,
     "metadata": {},
     "output_type": "execute_result"
    }
   ],
   "source": [
    "from quantize_utils import *\n",
    "from models.mobilenet import *\n",
    "from models.resnet import *\n",
    "# lenQmodel(qmobilenet(), layer_type=[BasicConv2d, DepthSeperabelConv2d])\n",
    "lenQmodel(qresnet50(), layer_type=[BottleNeck, BasicBlock])"
   ]
  },
  {
   "cell_type": "code",
   "execution_count": 44,
   "metadata": {},
   "outputs": [],
   "source": [
    "best_fitness = []\n",
    "best_energy = []\n",
    "best_accur = []\n",
    "\n",
    "for i in range(500):\n",
    "    _, f, _, e, a = bestSolution(pop_iter[i], privacy, energy, accur)\n",
    "    best_fitness.append(f)\n",
    "    best_energy.append(e)\n",
    "    best_accur.append(a)\n",
    "\n",
    "for i in range(500):\n",
    "    best_fitness.append(best_fitness[-1])"
   ]
  },
  {
   "cell_type": "code",
   "execution_count": null,
   "metadata": {},
   "outputs": [],
   "source": [
    "len(best_fitness)"
   ]
  },
  {
   "cell_type": "code",
   "execution_count": 46,
   "metadata": {},
   "outputs": [],
   "source": [
    "import csv\n",
    "filePath ='data/resnet50-iter.csv'\n",
    "with open(filePath, 'w') as f:\n",
    "    writer = csv.writer(f)\n",
    "    for i, F in enumerate(best_fitness):\n",
    "        writer.writerow([i, F])"
   ]
  },
  {
   "cell_type": "code",
   "execution_count": 45,
   "metadata": {},
   "outputs": [
    {
     "data": {
      "text/plain": [
       "[<matplotlib.lines.Line2D at 0x7f11ad307550>]"
      ]
     },
     "execution_count": 45,
     "metadata": {},
     "output_type": "execute_result"
    },
    {
     "data": {
      "image/png": "[encoded data removed]",
      "text/plain": [
       "<Figure size 432x288 with 1 Axes>"
      ]
     },
     "metadata": {
      "needs_background": "light"
     },
     "output_type": "display_data"
    }
   ],
   "source": [
    "import matplotlib.pyplot as plt\n",
    "fig, ax = plt.subplots()\n",
    "ax.plot(range(len(best_fitness)), best_fitness)"
   ]
  },
  {
   "cell_type": "code",
   "execution_count": null,
   "metadata": {},
   "outputs": [],
   "source": [
    "import matplotlib.pyplot as plt\n",
    "fig, ax = plt.subplots()\n",
    "ax.plot(range(len(best_energy)), best_energy, label='energy')"
   ]
  },
  {
   "cell_type": "code",
   "execution_count": null,
   "metadata": {},
   "outputs": [],
   "source": [
    "import matplotlib.pyplot as plt\n",
    "fig, ax = plt.subplots()\n",
    "ax.plot(range(len(best_accur)), best_accur, label='energy')"
   ]
  },
  {
   "cell_type": "markdown",
   "metadata": {},
   "source": [
    "# Final Finetune"
   ]
  },
  {
   "cell_type": "code",
   "execution_count": null,
   "metadata": {},
   "outputs": [],
   "source": [
    "from models.resnet import qresnet18, resnet50\n",
    "from utils import cifar100DataLoader, finetune, test\n",
    "from quantize_utils import load_qnet, mixed_quantize_with_partition, privacy_eval\n",
    "import conf"
   ]
  },
  {
   "cell_type": "code",
   "execution_count": null,
   "metadata": {},
   "outputs": [],
   "source": [
    "from models.mobilenetv2 import mobilenetv2\n",
    "resnet50()"
   ]
  },
  {
   "cell_type": "code",
   "execution_count": null,
   "metadata": {},
   "outputs": [],
   "source": [
    "trainLoader = cifar100DataLoader(train=True, shuffle=True, normalized=True, batch_size=256)\n",
    "testLoader = cifar100DataLoader(train=False, shuffle=False, normalized=True, batch_size=512)\n"
   ]
  },
  {
   "cell_type": "code",
   "execution_count": null,
   "metadata": {},
   "outputs": [],
   "source": [
    "qnet = qresnet18()\n",
    "load_qnet(qnet, conf.resnet18_path)\n",
    "split, pi = (14, (6, 2, 6, 2, 8, 6, 4, 6, 8, 8, 6, 4, 8, 2, 4, 8, 6, 4, 6))\n",
    "mixed_quantize_with_partition(qnet, strategy=pi, split=split)"
   ]
  },
  {
   "cell_type": "code",
   "execution_count": null,
   "metadata": {},
   "outputs": [],
   "source": [
    "test(qnet, testLoader, device='cuda')"
   ]
  },
  {
   "cell_type": "code",
   "execution_count": null,
   "metadata": {},
   "outputs": [],
   "source": [
    "finetune(qnet, trainloader=trainLoader, epochs=10, device='cuda', testloader=testLoader)"
   ]
  },
  {
   "cell_type": "code",
   "execution_count": null,
   "metadata": {},
   "outputs": [],
   "source": [
    "privacy_eval(qnet, trainLoader, device='cuda')"
   ]
  },
  {
   "cell_type": "markdown",
   "metadata": {},
   "source": [
    "# log 替换原值"
   ]
  },
  {
   "cell_type": "code",
   "execution_count": null,
   "metadata": {},
   "outputs": [],
   "source": [
    "import math\n",
    "a = [1.34, 3.52, 4.6, 4.73, 4.79, 5.12, 5.4, 5.8]"
   ]
  },
  {
   "cell_type": "code",
   "execution_count": null,
   "metadata": {},
   "outputs": [],
   "source": [
    "a = [3.4657461643218994, 3.4868290424346924, 3.515005111694336, 3.5801552295684814, 3.6973135471343994]"
   ]
  },
  {
   "cell_type": "code",
   "execution_count": null,
   "metadata": {},
   "outputs": [],
   "source": [
    "[math.log10(b) for b in a]"
   ]
  }
 ],
 "metadata": {
  "interpreter": {
   "hash": "d912fd5a214bdf4255a8a1783e88f12c1aa759a860b7ede2335e489e44772f26"
  },
  "kernelspec": {
   "display_name": "Python 3.8.0 64-bit ('py3.8.0-pytorch1.7.0': pyenv)",
   "name": "python3"
  },
  "language_info": {
   "codemirror_mode": {
    "name": "ipython",
    "version": 3
   },
   "file_extension": ".py",
   "mimetype": "text/x-python",
   "name": "python",
   "nbconvert_exporter": "python",
   "pygments_lexer": "ipython3",
   "version": "3.8.0"
  },
  "orig_nbformat": 4
 },
 "nbformat": 4,
 "nbformat_minor": 2
}
